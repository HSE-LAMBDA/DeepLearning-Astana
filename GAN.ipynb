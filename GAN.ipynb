{
 "cells": [
  {
   "cell_type": "code",
   "execution_count": 1,
   "metadata": {
    "collapsed": false
   },
   "outputs": [
    {
     "name": "stdout",
     "output_type": "stream",
     "text": [
      "env: THEANO_FLAGS='device=cpu','floatX=float32'\n"
     ]
    },
    {
     "name": "stderr",
     "output_type": "stream",
     "text": [
      "/home/mborisyak/opt/anaconda/lib/python2.7/site-packages/theano/tensor/signal/downsample.py:6: UserWarning: downsample module has been moved to the theano.tensor.signal.pool module.\n",
      "  \"downsample module has been moved to the theano.tensor.signal.pool module.\")\n"
     ]
    }
   ],
   "source": [
    "%env THEANO_FLAGS='device=cpu','floatX=float32'\n",
    "\n",
    "import os\n",
    "import os.path as osp\n",
    "\n",
    "import numpy as np\n",
    "\n",
    "import theano\n",
    "import theano.tensor as T\n",
    "\n",
    "from lasagne import *\n",
    "\n",
    "%matplotlib nbagg\n",
    "import matplotlib.pyplot as plt\n",
    "\n",
    "from mldm import NNWatcher, Net"
   ]
  },
  {
   "cell_type": "code",
   "execution_count": 17,
   "metadata": {
    "collapsed": true
   },
   "outputs": [],
   "source": [
    "class Discriminator(Net):\n",
    "    def __init__(self, X_real, X_pseudo):\n",
    "\n",
    "        self.input_l = layers.InputLayer(\n",
    "            (None, 1, 28, 28),\n",
    "            name='input layer'\n",
    "        )\n",
    "        \n",
    "        conv1 = layers.Conv2DLayer(\n",
    "            self.input_l,\n",
    "            num_filters=16,\n",
    "            filter_size=(3, 3),\n",
    "            nonlinearity=nonlinearities.leaky_rectify,\n",
    "            pad='same'\n",
    "        )\n",
    "        \n",
    "        pool1 = layers.Pool2DLayer(\n",
    "            conv1,\n",
    "            pool_size=(2, 2)\n",
    "        )\n",
    "        \n",
    "        conv2 = layers.Conv2DLayer(\n",
    "            pool1,\n",
    "            num_filters=16,\n",
    "            filter_size=(3, 3),\n",
    "            nonlinearity=nonlinearities.leaky_rectify\n",
    "        )\n",
    "        \n",
    "        pool2 = layers.Pool2DLayer(\n",
    "            conv2,\n",
    "            pool_size=(2, 2)\n",
    "        )\n",
    "        \n",
    "        conv3 = layers.Conv2DLayer(\n",
    "            pool2,\n",
    "            num_filters=32,\n",
    "            filter_size=(3, 3),\n",
    "            nonlinearity=nonlinearities.leaky_rectify\n",
    "        )\n",
    "        \n",
    "        pool3 = layers.GlobalPoolLayer(\n",
    "            conv3,\n",
    "            pool_function = T.mean\n",
    "        )\n",
    "        \n",
    "        out = layers.DenseLayer(\n",
    "            pool3,\n",
    "            num_units=1,\n",
    "            nonlinearity=nonlinearities.sigmoid\n",
    "        )\n",
    "        \n",
    "        self.net = layers.FlattenLayer(out)\n",
    "        \n",
    "        self.real_predictions = layers.get_output(\n",
    "            self.net, inputs = {\n",
    "                self.input_l : X_real\n",
    "            }\n",
    "        )\n",
    "        \n",
    "        self.pseudo_predictions = layers.get_output(\n",
    "            self.net, inputs = {\n",
    "                self.input_l : X_real\n",
    "            }\n",
    "        )"
   ]
  },
  {
   "cell_type": "code",
   "execution_count": 20,
   "metadata": {
    "collapsed": true
   },
   "outputs": [],
   "source": [
    "from theano.tensor.shared_randomstreams import RandomStreams\n",
    "\n",
    "rng = RandomStreams()"
   ]
  },
  {
   "cell_type": "code",
   "execution_count": 27,
   "metadata": {
    "collapsed": false
   },
   "outputs": [],
   "source": [
    "class MNISTGenerator(Net):\n",
    "    def __init__(self, batch_size = 32):\n",
    "        noise_shape = (28, 28)\n",
    "        X_noise = rng.normal(size=(batch_size, 1, ) + noise_shape, dtype='floatX')\n",
    "        \n",
    "        self.input_layer = layers.InputLayer(shape=(batch_size, 1, ) + noise_shape, input_var=X_noise)\n",
    "        \n",
    "        conv1 = layers.Conv2DLayer(\n",
    "            self.input_layer,\n",
    "            num_filters=16,\n",
    "            filter_size=(3, 3),\n",
    "            pad='same'\n",
    "        )\n",
    "        \n",
    "        conv2 = layers.Conv2DLayer(\n",
    "            conv1,\n",
    "            num_filters=32,\n",
    "            filter_size=(3, 3),\n",
    "            pad='same'\n",
    "        )\n",
    "        \n",
    "        conv3 = layers.Conv2DLayer(\n",
    "            conv2,\n",
    "            num_filters=32,\n",
    "            filter_size=(3, 3),\n",
    "            pad='same'\n",
    "        )\n",
    "        \n",
    "        conv4 = layers.Conv2DLayer(\n",
    "            conv3,\n",
    "            num_filters=16,\n",
    "            filter_size=(3, 3),\n",
    "            pad='same'\n",
    "        )\n",
    "        \n",
    "        conv5 = layers.Conv2DLayer(\n",
    "            conv4,\n",
    "            num_filters=1,\n",
    "            filter_size=(3, 3),\n",
    "            pad='same'\n",
    "        )\n",
    "        \n",
    "        self.net = conv5\n",
    "        \n",
    "        self.X_pseudo = layers.get_output(self.net)"
   ]
  },
  {
   "cell_type": "code",
   "execution_count": 28,
   "metadata": {
    "collapsed": false
   },
   "outputs": [
    {
     "name": "stdout",
     "output_type": "stream",
     "text": [
      "<lasagne.layers.input.InputLayer object at 0x7f9c5e415d90>\n",
      "  output shape:(32, 1, 28, 28)\n",
      "  number of params: 0.0\n",
      "<lasagne.layers.conv.Conv2DLayer object at 0x7f9c5e415910>\n",
      "  output shape:(32, 16, 28, 28)\n",
      "  number of params: 288\n",
      "<lasagne.layers.conv.Conv2DLayer object at 0x7f9c5e415e50>\n",
      "  output shape:(32, 32, 28, 28)\n",
      "  number of params: 9216\n",
      "<lasagne.layers.conv.Conv2DLayer object at 0x7f9c5e4157d0>\n",
      "  output shape:(32, 32, 28, 28)\n",
      "  number of params: 18432\n",
      "<lasagne.layers.conv.Conv2DLayer object at 0x7f9c5e2b4350>\n",
      "  output shape:(32, 16, 28, 28)\n",
      "  number of params: 9216\n",
      "<lasagne.layers.conv.Conv2DLayer object at 0x7f9c5e2b4590>\n",
      "  output shape:(32, 1, 28, 28)\n",
      "  number of params: 288\n"
     ]
    },
    {
     "name": "stderr",
     "output_type": "stream",
     "text": [
      "/home/mborisyak/opt/anaconda/lib/python2.7/site-packages/lasagne/layers/conv.py:460: UserWarning: The `image_shape` keyword argument to `tensor.nnet.conv2d` is deprecated, it has been renamed to `input_shape`.\n",
      "  border_mode='full')\n"
     ]
    }
   ],
   "source": [
    "print MNISTGenerator()"
   ]
  },
  {
   "cell_type": "code",
   "execution_count": null,
   "metadata": {
    "collapsed": true
   },
   "outputs": [],
   "source": [
    "class GAN(object):\n",
    "    def __init__(self, discriminator_cls, generator_cls):\n",
    "        X_real = T.ftensor4('X_real')\n",
    "        \n",
    "        generator = generator_cls()\n",
    "        discriminator = discriminator_cls(X_real, generator.X_pseudo)\n",
    "        \n",
    "        loss_discriminator = -T.mean(T.log(discriminator.real_predictions)) \\\n",
    "                             -T.mean(T.log(1 - discriminator.pseudo_predictions))\n",
    "        \n",
    "        learning_rate = T.fscalar('learning rate')\n",
    "        \n",
    "        discriminator_params = layers.get_all_params(discriminator)\n",
    "\n",
    "        discriminator_updates = updates.adadelta(\n",
    "            loss_discriminator,\n",
    "            discriminator_params,\n",
    "            learning_rate=learning_rate\n",
    "        )\n",
    "        \n",
    "        loss_generator = T.mean(T.log(1 - discriminator.pseudo_predictions))\n",
    "        \n",
    "        generator_params = layers.get_all_params(generator)\n",
    "        generator_updates = updates.adadelta(\n",
    "            loss_generator,\n",
    "            generator_params,\n",
    "            learning_rate=learning_rate\n",
    "        )\n",
    "        \n",
    "        self.train_discriminator = theano.function(\n",
    "            \n",
    "        )"
   ]
  }
 ],
 "metadata": {
  "kernelspec": {
   "display_name": "Python 2",
   "language": "python",
   "name": "python2"
  },
  "language_info": {
   "codemirror_mode": {
    "name": "ipython",
    "version": 2
   },
   "file_extension": ".py",
   "mimetype": "text/x-python",
   "name": "python",
   "nbconvert_exporter": "python",
   "pygments_lexer": "ipython2",
   "version": "2.7.12"
  }
 },
 "nbformat": 4,
 "nbformat_minor": 0
}
