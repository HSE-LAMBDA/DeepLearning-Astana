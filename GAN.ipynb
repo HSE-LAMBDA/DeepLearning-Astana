{
 "cells": [
  {
   "cell_type": "code",
   "execution_count": 3,
   "metadata": {
    "collapsed": false
   },
   "outputs": [
    {
     "name": "stdout",
     "output_type": "stream",
     "text": [
      "env: THEANO_FLAGS='device=cpu','floatX=float32'\n"
     ]
    }
   ],
   "source": [
    "%env THEANO_FLAGS='device=cpu','floatX=float32'\n",
    "\n",
    "import os\n",
    "import os.path as osp\n",
    "\n",
    "import numpy as np\n",
    "\n",
    "import theano\n",
    "import theano.tensor as T\n",
    "\n",
    "from lasagne import *\n",
    "\n",
    "%matplotlib nbagg\n",
    "import matplotlib.pyplot as plt\n",
    "\n",
    "from mldm import NNWatcher, Net"
   ]
  },
  {
   "cell_type": "code",
   "execution_count": 4,
   "metadata": {
    "collapsed": true
   },
   "outputs": [],
   "source": [
    "class Discriminator(Net):\n",
    "    def __init__(self, X_real, X_pseudo):\n",
    "        input_l = layers.InputLayer(\n",
    "            (None, 1, 28, 28),\n",
    "            name='input layer'\n",
    "        )\n",
    "        \n",
    "        conv1 = layers.Conv2DLayer(\n",
    "            input_l,\n",
    "            num_filters=16,\n",
    "            filter_size=(3, 3),\n",
    "            nonlinearity=nonlinearities.leaky_rectify\n",
    "        )\n",
    "        \n",
    "        pool1 = layers.Pool2DLayer(\n",
    "            conv1,\n",
    "            pool_size=(2, 2)\n",
    "        )\n",
    "        \n",
    "        conv2 = layers.Conv2DLayer(\n",
    "            pool1,\n",
    "            num_filters=16,\n",
    "            filter_size=(3, 3),\n",
    "            nonlinearity=nonlinearities.leaky_rectify\n",
    "        )\n",
    "        \n",
    "        pool2 = layers.Pool2DLayer(\n",
    "            conv2,\n",
    "            pool_size=(2, 2)\n",
    "        )\n",
    "        \n",
    "        conv3 = layers.Conv2DLayer(\n",
    "            pool2,\n",
    "            num_filters=32,\n",
    "            filter_size=(3, 3),\n",
    "            nonlinearity=nonlinearities.leaky_rectify\n",
    "        )\n",
    "        \n",
    "        pool3 = layers.Pool2DLayer(\n",
    "            conv1,\n",
    "            pool_size=(2, 2)\n",
    "        )"
   ]
  },
  {
   "cell_type": "code",
   "execution_count": null,
   "metadata": {
    "collapsed": true
   },
   "outputs": [],
   "source": []
  }
 ],
 "metadata": {
  "kernelspec": {
   "display_name": "Python 2",
   "language": "python",
   "name": "python2"
  },
  "language_info": {
   "codemirror_mode": {
    "name": "ipython",
    "version": 2
   },
   "file_extension": ".py",
   "mimetype": "text/x-python",
   "name": "python",
   "nbconvert_exporter": "python",
   "pygments_lexer": "ipython2",
   "version": "2.7.12"
  }
 },
 "nbformat": 4,
 "nbformat_minor": 0
}
